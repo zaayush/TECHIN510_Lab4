{
 "cells": [
  {
   "cell_type": "markdown",
   "metadata": {},
   "source": [
    "# Text Extraction"
   ]
  },
  {
   "cell_type": "code",
   "execution_count": 3,
   "metadata": {},
   "outputs": [],
   "source": [
    "import re\n"
   ]
  },
  {
   "cell_type": "code",
   "execution_count": 1,
   "metadata": {},
   "outputs": [],
   "source": [
    "s = '''\n",
    "<a href=\"https://amazon.com/categories/ski\">Ski</a>\n",
    "<a href=\"https://amazon.com/p/1234567890/awesome-product-1\">Coffee beans</a>\n",
    "<a href=\"https://amazon.com/p/6454343333/ok-product-2\">Backcountry Ski</a>\n",
    "<a href=\"https://amazon.com/p/6543565454/great-product-1\">Book</a>\n",
    "<a href=\"https://amazon.com/about-us\">About Us</a>\n",
    "'''"
   ]
  },
  {
   "cell_type": "code",
   "execution_count": 4,
   "metadata": {},
   "outputs": [
    {
     "data": {
      "text/plain": [
       "['<a href=\"https://amazon.com/p/1234567890/awesome-product-1\">']"
      ]
     },
     "execution_count": 4,
     "metadata": {},
     "output_type": "execute_result"
    }
   ],
   "source": [
    "re.findall(r'<a href=\"https://amazon.com/p/1234567890/awesome-product-1\">', s)"
   ]
  },
  {
   "cell_type": "code",
   "execution_count": 5,
   "metadata": {},
   "outputs": [
    {
     "data": {
      "text/plain": [
       "['<a href=\"https://amazon.com/p/1234567890/awesome-product-1\">',\n",
       " '<a href=\"https://amazon.com/p/6454343333/ok-product-2\">',\n",
       " '<a href=\"https://amazon.com/p/6543565454/great-product-1\">']"
      ]
     },
     "execution_count": 5,
     "metadata": {},
     "output_type": "execute_result"
    }
   ],
   "source": [
    "re.findall(r'<a href=\"https://amazon.com/p/\\d+/.+\">', s)\n"
   ]
  },
  {
   "cell_type": "code",
   "execution_count": 6,
   "metadata": {},
   "outputs": [
    {
     "data": {
      "text/plain": [
       "['https://amazon.com/p/1234567890/awesome-product-1',\n",
       " 'https://amazon.com/p/6454343333/ok-product-2',\n",
       " 'https://amazon.com/p/6543565454/great-product-1']"
      ]
     },
     "execution_count": 6,
     "metadata": {},
     "output_type": "execute_result"
    }
   ],
   "source": [
    "re.findall(r'<a href=\"(https://amazon.com/p/\\d+/.+)\">', s)\n"
   ]
  },
  {
   "cell_type": "markdown",
   "metadata": {},
   "source": [
    "# Datetime data\n"
   ]
  },
  {
   "cell_type": "code",
   "execution_count": 7,
   "metadata": {},
   "outputs": [],
   "source": [
    "import datetime\n",
    "from zoneinfo import ZoneInfo"
   ]
  },
  {
   "cell_type": "code",
   "execution_count": 8,
   "metadata": {},
   "outputs": [
    {
     "data": {
      "text/plain": [
       "datetime.datetime(2024, 1, 30, 14, 28, 23, 181151, tzinfo=zoneinfo.ZoneInfo(key='America/Los_Angeles'))"
      ]
     },
     "execution_count": 8,
     "metadata": {},
     "output_type": "execute_result"
    }
   ],
   "source": [
    "now = datetime.datetime.now(tz=ZoneInfo(\"America/Los_Angeles\"))\n",
    "now"
   ]
  },
  {
   "cell_type": "code",
   "execution_count": 9,
   "metadata": {},
   "outputs": [
    {
     "data": {
      "text/plain": [
       "datetime.datetime(2024, 1, 30, 23, 28, 23, 181151, tzinfo=zoneinfo.ZoneInfo(key='Europe/Amsterdam'))"
      ]
     },
     "execution_count": 9,
     "metadata": {},
     "output_type": "execute_result"
    }
   ],
   "source": [
    "now.astimezone(ZoneInfo(\"Europe/Amsterdam\"))\n"
   ]
  },
  {
   "cell_type": "markdown",
   "metadata": {},
   "source": [
    "# UNIX timestamp"
   ]
  },
  {
   "cell_type": "code",
   "execution_count": 10,
   "metadata": {},
   "outputs": [
    {
     "data": {
      "text/plain": [
       "1706653703.181151"
      ]
     },
     "execution_count": 10,
     "metadata": {},
     "output_type": "execute_result"
    }
   ],
   "source": [
    "# Convert to UNIX timestamp\n",
    "now.timestamp()"
   ]
  },
  {
   "cell_type": "code",
   "execution_count": 11,
   "metadata": {},
   "outputs": [
    {
     "data": {
      "text/plain": [
       "'2024-01-30T14:28:23.181151-08:00'"
      ]
     },
     "execution_count": 11,
     "metadata": {},
     "output_type": "execute_result"
    }
   ],
   "source": [
    "now.isoformat()"
   ]
  },
  {
   "cell_type": "code",
   "execution_count": 13,
   "metadata": {},
   "outputs": [
    {
     "data": {
      "text/plain": [
       "datetime.datetime(2023, 4, 20, 0, 0)"
      ]
     },
     "execution_count": 13,
     "metadata": {},
     "output_type": "execute_result"
    }
   ],
   "source": [
    "dt_str = '4/20/2023'\n",
    "dt = datetime.datetime.strptime(dt_str, '%m/%d/%Y')\n",
    "dt"
   ]
  },
  {
   "cell_type": "code",
   "execution_count": 14,
   "metadata": {},
   "outputs": [
    {
     "data": {
      "text/plain": [
       "'2023-04-20'"
      ]
     },
     "execution_count": 14,
     "metadata": {},
     "output_type": "execute_result"
    }
   ],
   "source": [
    "dt.strftime(\"%Y-%m-%d\")"
   ]
  },
  {
   "cell_type": "code",
   "execution_count": null,
   "metadata": {},
   "outputs": [],
   "source": [
    "now = datetime.datetime.now(tz=ZoneInfo(\"America/Los_Angeles\"))\n",
    "\n",
    "dt_with_tz = dt.replace(tzinfo=ZoneInfo(\"America/Los_Angles\"))\n",
    "\n",
    "days_until_event = dt_with_tz - now\n",
    "str(days_until_event)"
   ]
  },
  {
   "cell_type": "code",
   "execution_count": null,
   "metadata": {},
   "outputs": [],
   "source": [
    "import time\n",
    "import streamlit as st\n",
    "\n",
    "# Define a dictionary of locations and their corresponding time zones\n",
    "locations = {\n",
    "    'Seattle': 'US/Pacific',\n",
    "    'Delhi': 'Asia/Kolkata',\n",
    "    'Singapore': 'Asia/Singapore',\n",
    "    # Add more locations as needed\n",
    "}\n",
    "\n",
    "# Function to get the current time for a given time zone\n",
    "def get_current_time(timezone):\n",
    "    return time.strftime('%Y-%b-%d   %I:%M:%S %p', time.localtime(time.time()))\n",
    "\n",
    "# Title of the app\n",
    "st.title('World Clock')\n",
    "\n",
    "# Allow users to select up to 4 locations\n",
    "selected_locations = st.selectbox(\n",
    "    'Select location:',\n",
    "    list(locations.keys())\n",
    ")\n",
    "\n",
    "# Define CSS style for the circular display\n",
    "circle_style = '''\n",
    "    border-radius: 100%;\n",
    "    border: 10px solid black;\n",
    "    width: 500px;\n",
    "    height: 500px;\n",
    "    display: flex;\n",
    "    align-items: center;\n",
    "    justify-content: center;\n",
    "    font-size: 3em;\n",
    "    margin: 20px;\n",
    "'''\n",
    "\n",
    "# Display the time for each selected location\n",
    "if selected_locations:\n",
    "    circle_placeholder = st.empty()  # Placeholder for the circular display\n",
    "    while True:\n",
    "        for location in selected_locations:\n",
    "            timezone = locations[location]\n",
    "            current_time = get_current_time(timezone)\n",
    "            circle_placeholder.markdown(\n",
    "                f'<div style=\"{circle_style}\">{current_time}</div>',\n",
    "                unsafe_allow_html=True\n",
    "            )\n",
    "        time.sleep(1)  # Update every second"
   ]
  }
 ],
 "metadata": {
  "kernelspec": {
   "display_name": "Python 3",
   "language": "python",
   "name": "python3"
  },
  "language_info": {
   "codemirror_mode": {
    "name": "ipython",
    "version": 3
   },
   "file_extension": ".py",
   "mimetype": "text/x-python",
   "name": "python",
   "nbconvert_exporter": "python",
   "pygments_lexer": "ipython3",
   "version": "3.11.8"
  }
 },
 "nbformat": 4,
 "nbformat_minor": 2
}
